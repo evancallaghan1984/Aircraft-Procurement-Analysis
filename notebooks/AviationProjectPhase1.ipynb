{
 "cells": [
  {
   "cell_type": "markdown",
   "metadata": {},
   "source": [
    "# Aviation Data Analysis\n",
    "\n",
    "## Introduction\n",
    "In modern medicine, organ transplants are frequently done in order to replace a patients failing or failed organs. Often, doctors are able to identify issues of bodily failure early on and schedule a date and time for an organ transplant operation. Under these circumstances, transportation of the organ via truck or helicopter, is suitable as the patient has time before their organ fails or ruptures. In more time sensitive cases, like trauma or late identification of organ failure, more emergency measures are needed. In these certain scenarios, a patient may need an organ within 24 hours and the only availability is greater than 500 miles away. Based on this necessary service and opening in the market, the hospital network Geisinger Permanente has decided to open up a subsidiary business called TransOrgo. TransOrgo will use airplanes to transport organs in time-dependent situations when the distance to the next available organ is greater than 500 miles away and the organ is needed within 12-24 hours. The owners of TransOrgo has assessed market conditions and deemed it to be a profitable business. Before purchasing any airplanes, the stakeholders of TransOrgo are asking for the data science team to conduct an analysis of incident data and determine the lowest risk airplanes to purchase. \n",
    "\n",
    "## The Data\n",
    "The data we are using to conduct this analysis is aviation incident data from 1962 to 2023 from the National Transportation Safety Board. Below, we will provide a technical explanation of:\n",
    "* How we handled the data\n",
    "* The steps we took to process and clean the data\n",
    "* The actions we took to reach my conclusions\n",
    "* The methods we used to create visualizations for the data"
   ]
  },
  {
   "cell_type": "markdown",
   "metadata": {},
   "source": [
    "## Importing the data for analysis\n",
    "\n",
    "* We start by importing the entire Pandas Library as pd and import the 'Aviation.csv' file as a dataframe and call it 'aviation_data'."
   ]
  },
  {
   "cell_type": "code",
   "execution_count": 1,
   "metadata": {},
   "outputs": [],
   "source": [
    "import pandas as pd\n",
    "aviation_data = pd.read_csv(\"../data/AviationData.csv\", encoding='latin-1', low_memory=False)"
   ]
  },
  {
   "cell_type": "markdown",
   "metadata": {},
   "source": [
    "## aviation_data.info()\n",
    "The first thing we are going to do is use the pandas '.info()' method to print a concise summary of the aviation_data dataframe we just created. We are doing this to determine which columns we are going to use in our analysis. "
   ]
  },
  {
   "cell_type": "code",
   "execution_count": 2,
   "metadata": {},
   "outputs": [
    {
     "name": "stdout",
     "output_type": "stream",
     "text": [
      "<class 'pandas.core.frame.DataFrame'>\n",
      "RangeIndex: 88889 entries, 0 to 88888\n",
      "Data columns (total 31 columns):\n",
      " #   Column                  Non-Null Count  Dtype  \n",
      "---  ------                  --------------  -----  \n",
      " 0   Event.Id                88889 non-null  object \n",
      " 1   Investigation.Type      88889 non-null  object \n",
      " 2   Accident.Number         88889 non-null  object \n",
      " 3   Event.Date              88889 non-null  object \n",
      " 4   Location                88837 non-null  object \n",
      " 5   Country                 88663 non-null  object \n",
      " 6   Latitude                34382 non-null  object \n",
      " 7   Longitude               34373 non-null  object \n",
      " 8   Airport.Code            50249 non-null  object \n",
      " 9   Airport.Name            52790 non-null  object \n",
      " 10  Injury.Severity         87889 non-null  object \n",
      " 11  Aircraft.damage         85695 non-null  object \n",
      " 12  Aircraft.Category       32287 non-null  object \n",
      " 13  Registration.Number     87572 non-null  object \n",
      " 14  Make                    88826 non-null  object \n",
      " 15  Model                   88797 non-null  object \n",
      " 16  Amateur.Built           88787 non-null  object \n",
      " 17  Number.of.Engines       82805 non-null  float64\n",
      " 18  Engine.Type             81812 non-null  object \n",
      " 19  FAR.Description         32023 non-null  object \n",
      " 20  Schedule                12582 non-null  object \n",
      " 21  Purpose.of.flight       82697 non-null  object \n",
      " 22  Air.carrier             16648 non-null  object \n",
      " 23  Total.Fatal.Injuries    77488 non-null  float64\n",
      " 24  Total.Serious.Injuries  76379 non-null  float64\n",
      " 25  Total.Minor.Injuries    76956 non-null  float64\n",
      " 26  Total.Uninjured         82977 non-null  float64\n",
      " 27  Weather.Condition       84397 non-null  object \n",
      " 28  Broad.phase.of.flight   61724 non-null  object \n",
      " 29  Report.Status           82508 non-null  object \n",
      " 30  Publication.Date        75118 non-null  object \n",
      "dtypes: float64(5), object(26)\n",
      "memory usage: 21.0+ MB\n"
     ]
    }
   ],
   "source": [
    "aviation_data.info()"
   ]
  },
  {
   "cell_type": "markdown",
   "metadata": {},
   "source": [
    "## Choosing Columns\n",
    "to conduct our analysis, the column names we are going to use are:\n",
    "* \"Injury.Severity\"\n",
    "* \"Aircraft.Category\"\n",
    "* \"Make\"\n",
    "* \"Model\"\n",
    "* \"Amateur.Built\"\n",
    "* \"Number.of.Engines\"\n",
    "* \"Engine.Type\"\n",
    "* \"Purpose.of.flight\"\n",
    "* \"Weather.Condition\"\n",
    "\n",
    "The reason we chose these columns is because \"Injury Severity\" has useful values, such as \"Serious\" and \"Fatal\", which we are going to use to measure risk. Columns such as \"Accident.Number\" and \"Publication.Date\" are useless for this particular analysis because they provide little to no information to measure threat exposure. \n",
    "Now that we know which columns we make it a list of the aviation_data columns we are going to use to create a new dataframe with and attach it to a variable called \"aviation_columns\". "
   ]
  },
  {
   "cell_type": "code",
   "execution_count": 3,
   "metadata": {},
   "outputs": [],
   "source": [
    "aviation_columns = ['Injury.Severity', 'Aircraft.Category', 'Make', 'Model', 'Amateur.Built',\n",
    "                   'Number.of.Engines', 'Engine.Type', 'Purpose.of.flight', \"Weather.Condition\"]"
   ]
  },
  {
   "cell_type": "markdown",
   "metadata": {},
   "source": [
    "## New Dataframe\n",
    "\n",
    "Since we may want to refer to the original 'aviation_data' dataframe, we are going to create a new dataframe with our desired columns, instead of editing our original dataframe and deleting columns. we are going to call this new dataframe 'aviation_processed'."
   ]
  },
  {
   "cell_type": "code",
   "execution_count": 4,
   "metadata": {},
   "outputs": [],
   "source": [
    "aviation_processed = aviation_data[aviation_columns]"
   ]
  },
  {
   "cell_type": "markdown",
   "metadata": {},
   "source": [
    "## Cleaning the data: Aircraft\n",
    "\n",
    "Now that we have our new dataframe 'aviation_processed' with our desired columns from the original dataframe, 'aviation_data', we are going to clean the data and get rid of some rows that we don't need. Looking into the 'Aircraft.Category' column using the .value_counts() method, we will see that there are more aircraft than just airplanes."
   ]
  },
  {
   "cell_type": "code",
   "execution_count": 5,
   "metadata": {},
   "outputs": [
    {
     "data": {
      "text/plain": [
       "Airplane             27617\n",
       "Helicopter            3440\n",
       "Glider                 508\n",
       "Balloon                231\n",
       "Gyrocraft              173\n",
       "Weight-Shift           161\n",
       "Powered Parachute       91\n",
       "Ultralight              30\n",
       "Unknown                 14\n",
       "WSFT                     9\n",
       "Powered-Lift             5\n",
       "Blimp                    4\n",
       "UNK                      2\n",
       "Rocket                   1\n",
       "ULTR                     1\n",
       "Name: Aircraft.Category, dtype: int64"
      ]
     },
     "execution_count": 5,
     "metadata": {},
     "output_type": "execute_result"
    }
   ],
   "source": [
    "aviation_processed['Aircraft.Category'].value_counts()"
   ]
  },
  {
   "cell_type": "markdown",
   "metadata": {},
   "source": [
    "## Cleaning the data: Removing unnecessary Aircraft\n",
    "\n",
    "Because our company will only be utilizing airplanes for business, we can go ahead and delete any rows that aren't airplanes. To do this, we are going to utilize .loc method from Pandas in order to filter our 'Aircraft.Category' columns based on the label 'Airplane'. This will delete any rows in 'Aircraft.Category' which don't have the word 'Airplane'."
   ]
  },
  {
   "cell_type": "code",
   "execution_count": 6,
   "metadata": {},
   "outputs": [],
   "source": [
    "aviation_processed = aviation_processed.loc[\n",
    "    aviation_processed['Aircraft.Category'] == \"Airplane\", \n",
    "    aviation_columns\n",
    "]\n"
   ]
  },
  {
   "cell_type": "markdown",
   "metadata": {},
   "source": [
    "Now when we check the values for the 'Aircraft.Category' column, we can see only 'Airplane'\n",
    "appears"
   ]
  },
  {
   "cell_type": "code",
   "execution_count": 7,
   "metadata": {},
   "outputs": [
    {
     "data": {
      "text/plain": [
       "Airplane    27617\n",
       "Name: Aircraft.Category, dtype: int64"
      ]
     },
     "execution_count": 7,
     "metadata": {},
     "output_type": "execute_result"
    }
   ],
   "source": [
    "aviation_processed['Aircraft.Category'].value_counts()"
   ]
  },
  {
   "cell_type": "markdown",
   "metadata": {},
   "source": [
    "## Export current CSV file\n",
    "\n",
    "We are going to the current datafile as a CSV file to show in tableau. "
   ]
  },
  {
   "cell_type": "code",
   "execution_count": 8,
   "metadata": {},
   "outputs": [],
   "source": [
    "#aviation_processed.to_csv('Aviation_airplane_filtered.csv', index=False)"
   ]
  },
  {
   "cell_type": "markdown",
   "metadata": {},
   "source": [
    "## Cleaning the data: Amateur Built\n",
    "\n",
    "Now that we have eliminated any rows that aren't Airplane incidents, we are then going to \n",
    "filter out the rows in the \"Amateur.Built\" column to delete any rows in which the airplane\n",
    "build was amateur. Upon checking the values of our \"Amateur.Built\" category, we can see \n",
    "that it's broken down into \"Yes\", meaning the aircraft was amateur built, and \"No\", meaning\n",
    "the aircraft was not amateur built."
   ]
  },
  {
   "cell_type": "code",
   "execution_count": 9,
   "metadata": {},
   "outputs": [
    {
     "data": {
      "text/plain": [
       "No     24417\n",
       "Yes     3183\n",
       "Name: Amateur.Built, dtype: int64"
      ]
     },
     "execution_count": 9,
     "metadata": {},
     "output_type": "execute_result"
    }
   ],
   "source": [
    "aviation_processed['Amateur.Built'].value_counts()"
   ]
  },
  {
   "cell_type": "markdown",
   "metadata": {},
   "source": [
    "## Cleaning the data: Amateur Built vs. Injury Severity\n",
    "\n",
    "To show there is an actual statistical reason to only use non-amateur built airplanes, we are going to compare the \"Amateur.Built\" column with the \"Injury.Severity\" column. We first check the 'Injury.Severity' values using the .value_counts() method. "
   ]
  },
  {
   "cell_type": "code",
   "execution_count": 10,
   "metadata": {},
   "outputs": [
    {
     "data": {
      "text/plain": [
       "Non-Fatal      21063\n",
       "Fatal           4238\n",
       "Fatal(1)         386\n",
       "Fatal(2)         279\n",
       "Incident         246\n",
       "Minor            165\n",
       "Serious          127\n",
       "Fatal(3)          90\n",
       "Fatal(4)          79\n",
       "Fatal(5)          26\n",
       "Fatal(6)          21\n",
       "Unavailable       21\n",
       "Fatal(7)          13\n",
       "Fatal(8)          13\n",
       "Fatal(10)          7\n",
       "Fatal(12)          4\n",
       "Fatal(13)          2\n",
       "Fatal(154)         2\n",
       "Fatal(17)          1\n",
       "Fatal(16)          1\n",
       "Fatal(169)         1\n",
       "Fatal(131)         1\n",
       "Fatal(19)          1\n",
       "Fatal(26)          1\n",
       "Fatal(35)          1\n",
       "Fatal(54)          1\n",
       "Fatal(24)          1\n",
       "Fatal(160)         1\n",
       "Fatal(27)          1\n",
       "Fatal(113)         1\n",
       "Fatal(9)           1\n",
       "Fatal(11)          1\n",
       "Fatal(125)         1\n",
       "Fatal(65)          1\n",
       "Fatal(14)          1\n",
       "Fatal(18)          1\n",
       "Fatal(20)          1\n",
       "Fatal(97)          1\n",
       "Fatal(228)         1\n",
       "Name: Injury.Severity, dtype: int64"
      ]
     },
     "execution_count": 10,
     "metadata": {},
     "output_type": "execute_result"
    }
   ],
   "source": [
    "aviation_processed['Injury.Severity'].value_counts()"
   ]
  },
  {
   "cell_type": "markdown",
   "metadata": {},
   "source": [
    "As we can see by the values of the \"Injury.Severity\" column, we are going to use the rows with values \"Serious\" and rows that start with \"Fatal\" to figure out what percentage of amateur built planes were either fatalities or serious incidents. The reason we are focusing on these components of the values is because \"Serious\" and \"Fatal\" incidents are more likely to destroy the airplane, as well as damage whatever the plane hits, kill the pilots and crew, and destroy the cargo. This leads not only to a loss of capital and life, it leads to a litany of legal issues that will cause significant financial stress on the company. "
   ]
  },
  {
   "cell_type": "markdown",
   "metadata": {},
   "source": [
    "First, we create a variable to group the 'aviation_processed' dataframe by the unique values in \"Amateur.Built\" and calculate summation of the values in the \"Amateur.Built\" column in which the \"Injury.Severity\" column has the value \"Serious\" or has a value that starts with the word \"Fatal\". We need to do this because the values in \"Injury\" Severity\" contain values such as \"Fatal, Fatal(0), Fatal(1), etc\". \n",
    "Next, we create a variable called amateur_built_counts, which gives us a total count of each value in the \"Amateur.Built\" column, the values of which are either \"Yes\" or \"No\".\n",
    "Finally, we create our \"amateurbuilt_severity_percent\" variable, which is a simple calculation to test what percentage of amateur built and non-amateur built planes were serious or fatal. "
   ]
  },
  {
   "cell_type": "code",
   "execution_count": 11,
   "metadata": {},
   "outputs": [
    {
     "name": "stdout",
     "output_type": "stream",
     "text": [
      "Percentage of Serious of Fatal incidents in Amateur Built and Non-Amateur Built airplanes:\n",
      "Amateur.Built\n",
      "No      18.68%\n",
      "Yes     23.31%\n",
      "dtype: object\n"
     ]
    }
   ],
   "source": [
    "amateur_severity = aviation_processed.groupby(\"Amateur.Built\")['Injury.Severity'].apply(\n",
    "    lambda x: ((x == \"Serious\") |  (x.str.startswith(\"Fatal\"))).sum()\n",
    ")\n",
    "\n",
    "amateur_built_counts = aviation_processed['Amateur.Built'].value_counts()\n",
    "\n",
    "amateurbuilt_severity_percent = (amateur_severity / amateur_built_counts) * 100\n",
    "\n",
    "print(\"Percentage of Serious of Fatal incidents in Amateur Built and Non-Amateur Built airplanes:\")\n",
    "\n",
    "print(amateurbuilt_severity_percent.apply(lambda x: f\"{x: .2f}%\"))"
   ]
  },
  {
   "cell_type": "markdown",
   "metadata": {},
   "source": [
    "## Cleaning the data: Analysis of Amateur Built Airplanes Result\n",
    "\n",
    "As we can see from the results, 23.31% of incidents involving an amateur built plane were serious or fatal, as opposed to non-amateur built airplanes, of which only 18.68% were serious or fatal. \n",
    "From this analysis, we can conclude that we should only use non-amateur built airplanes and will now remove all rows which contain amateur built airplanes in order to further clean our dataset. "
   ]
  },
  {
   "cell_type": "code",
   "execution_count": 12,
   "metadata": {},
   "outputs": [],
   "source": [
    "aviation_processed = aviation_processed.loc[aviation_processed[\"Amateur.Built\"] == \"No\", aviation_columns]"
   ]
  },
  {
   "cell_type": "markdown",
   "metadata": {},
   "source": [
    "Now we run a quick check using .value_counts() to make sure there are only \"No\" values in our \"Amateur.Built\" column."
   ]
  },
  {
   "cell_type": "code",
   "execution_count": 13,
   "metadata": {},
   "outputs": [
    {
     "data": {
      "text/plain": [
       "No    24417\n",
       "Name: Amateur.Built, dtype: int64"
      ]
     },
     "execution_count": 13,
     "metadata": {},
     "output_type": "execute_result"
    }
   ],
   "source": [
    "aviation_processed['Amateur.Built'].value_counts()"
   ]
  },
  {
   "cell_type": "markdown",
   "metadata": {},
   "source": [
    "## Recommendation #1: Weather Condition\n",
    "\n",
    "Now we will show our analysis of how we found our first recommendation, which is to raise the cost of transportation when weather is IMC. In this dataset, \"Weather Condition\" is broken down into two categories: VMC and IMC. VMC stands for Visual Meteorologic Conditions and is used to describe weather in which the visibility is good enough to allow pilots to use their visual information to fly. IMC stands for Instrument Meteorologic Conditions and is used to describe weather in which the visibility is low enough that the pilot cannot use their visual information and must rely solely on their instruments. \n",
    "When we look at the values of \"Weather Condition\", we see that it has some unnecessary values \"Unknown\" and \"UNK\", so the first thing we will do is get rid of those rows to clean up our data and get a more accurate analysis. "
   ]
  },
  {
   "cell_type": "code",
   "execution_count": 14,
   "metadata": {},
   "outputs": [
    {
     "data": {
      "text/plain": [
       "VMC    19711\n",
       "IMC     1363\n",
       "Unk      215\n",
       "UNK      149\n",
       "Name: Weather.Condition, dtype: int64"
      ]
     },
     "execution_count": 14,
     "metadata": {},
     "output_type": "execute_result"
    }
   ],
   "source": [
    "aviation_processed['Weather.Condition'].value_counts()"
   ]
  },
  {
   "cell_type": "code",
   "execution_count": 15,
   "metadata": {},
   "outputs": [],
   "source": [
    "aviation_processed = aviation_processed.loc[\n",
    "    (aviation_processed['Weather.Condition'] != \"UNK\") & \n",
    "    (aviation_processed['Weather.Condition'] != \"Unk\")\n",
    "]\n"
   ]
  },
  {
   "cell_type": "markdown",
   "metadata": {},
   "source": [
    "## Weather Condition vs. Injury Severity\n",
    "\n",
    "Now that our dataset is narrowed down to the two categories \"IMC\" and \"VMC\", we are going to run a proportional analysis to test what percentage of \"IMC\" weather and \"VMC\" weather incidents were \"Serious\" or \"Fatal\". First we create a variable called weather_severity to group the data by the \"Weather.Condition\" column and get a summation of each value in the \"Weather.Condition\" column in which the \"Injury Severity\" column also is equal to \"Serious\" or starts with the word \"Fatal\". We then create another variable called weather_cond_total to get a total count of each value in the \"Weather Condition\" column. Lastly, we create one more variable that runs a simple calculation to find the percentage of each \"Weather Condition\" value is \"Serious\" or \"Fatal\" and we print our answer. "
   ]
  },
  {
   "cell_type": "code",
   "execution_count": 16,
   "metadata": {},
   "outputs": [
    {
     "name": "stdout",
     "output_type": "stream",
     "text": [
      "Percentage of Serious of Fatal incidents in VMC and IMC weather conditions:\n",
      "IMC     55.91%\n",
      "VMC     13.80%\n",
      "dtype: object\n"
     ]
    }
   ],
   "source": [
    "weather_severity = aviation_processed.groupby(\"Weather.Condition\")['Injury.Severity'].apply(\n",
    "    lambda x: ((x == \"Serious\") |  (x.str.startswith(\"Fatal\"))).sum()\n",
    ")\n",
    "weather_cond_total = aviation_processed['Weather.Condition'].value_counts()\n",
    "\n",
    "weather_severity_percent = (weather_severity / weather_cond_total) * 100\n",
    "\n",
    "print(\"Percentage of Serious of Fatal incidents in VMC and IMC weather conditions:\")\n",
    "\n",
    "print(weather_severity_percent.apply(lambda x: f\"{x: .2f}%\"))"
   ]
  },
  {
   "cell_type": "markdown",
   "metadata": {},
   "source": [
    "## Weather Condition vs. Injury Severity Results\n",
    "\n",
    "As we can see from the results, Incidents in which weather conditions were IMC resulted in \"Serious\" or \"Fatal\" incidents 55.91% of the time, while incidents that occurred during VMC weather conditions only resulted in \"Serious\" or \"Fatal\" incidents 13.80% of the time. This is a large disparity and shows the huge impact weather has on airline incidents. In order to compensate for the financial risk of flying during IMC weather conditions, our first recommendation is to raise prices during these circumstances. Because TransOrgo is an emergency service, we must be able to supply the cargo in any context, but in order to justify our calculated risk of flying during IMC conditions, we must increase prices on these specific trips."
   ]
  },
  {
   "cell_type": "code",
   "execution_count": 17,
   "metadata": {},
   "outputs": [
    {
     "data": {
      "image/png": "[encoded data removed]",
      "text/plain": [
       "<Figure size 360x432 with 1 Axes>"
      ]
     },
     "metadata": {
      "needs_background": "light"
     },
     "output_type": "display_data"
    }
   ],
   "source": [
    "%matplotlib inline\n",
    "import matplotlib.pyplot as plt\n",
    "import matplotlib.ticker as mtick\n",
    "weather_conditions = weather_severity_percent.index.tolist()\n",
    "weathercond_severity_percent = weather_severity_percent\n",
    "fig, ax = plt.subplots(figsize=(5, 6))\n",
    "\n",
    "imc_bar = ax.bar(weather_conditions[0], weathercond_severity_percent[0], \\\n",
    "                 color='blue', width=0.5, label=\"IMC\")\n",
    "\n",
    "vmc_bar = ax.bar(weather_conditions[1], weathercond_severity_percent[1], \\\n",
    "                 color='red', width=0.5, label=\"VMC\")\n",
    "\n",
    "for bar in imc_bar + vmc_bar:\n",
    "    height = bar.get_height()\n",
    "    ax.text(bar.get_x() + bar.get_width() / 2, height + 2, f'{height:.2f}%', \n",
    "            ha='center', va='bottom')\n",
    "    \n",
    "legend_labels = [\"IMC\", \"VMC\"]\n",
    "ax.legend(handles=[imc_bar, vmc_bar], labels=legend_labels, loc='upper right')\n",
    "\n",
    "\n",
    "ax.set_title('Percentage of Serious or Fatal Incidents by Weather Condition')\n",
    "ax.set_xlabel('Weather Condition')\n",
    "ax.set_ylabel('Percentage of Serious or Fatal Incidents')\n",
    "ax.set_ylim(0, 80)\n",
    "ax.yaxis.set_major_formatter(mtick.PercentFormatter())\n",
    "plt.show()"
   ]
  },
  {
   "cell_type": "markdown",
   "metadata": {},
   "source": [
    "## Recommendation #2: Turbo Fan Engine\n",
    "\n",
    "Now we will show our analysis of how we found our second recommendation, which is to use a plane with a Turbo Fan engine. Looking at the types of engines we have, we are first going to clean up the data by removing \"Unknown\" and \"UNK\" from our dataset, since that will not help with our analysis."
   ]
  },
  {
   "cell_type": "code",
   "execution_count": 18,
   "metadata": {},
   "outputs": [
    {
     "data": {
      "text/plain": [
       "Reciprocating      17718\n",
       "Turbo Prop          1317\n",
       "Turbo Fan            909\n",
       "Turbo Jet            150\n",
       "Unknown               48\n",
       "Geared Turbofan       12\n",
       "Turbo Shaft           11\n",
       "Electric               5\n",
       "UNK                    1\n",
       "Name: Engine.Type, dtype: int64"
      ]
     },
     "execution_count": 18,
     "metadata": {},
     "output_type": "execute_result"
    }
   ],
   "source": [
    "aviation_processed['Engine.Type'].value_counts()"
   ]
  },
  {
   "cell_type": "code",
   "execution_count": 19,
   "metadata": {},
   "outputs": [],
   "source": [
    "aviation_processed = aviation_processed.loc[(aviation_processed['Engine.Type'] != \"Unknown\") & \n",
    "                                            (aviation_processed['Engine.Type'] != \"UNK\")]\n"
   ]
  },
  {
   "cell_type": "code",
   "execution_count": 20,
   "metadata": {},
   "outputs": [
    {
     "data": {
      "text/plain": [
       "Reciprocating      17718\n",
       "Turbo Prop          1317\n",
       "Turbo Fan            909\n",
       "Turbo Jet            150\n",
       "Geared Turbofan       12\n",
       "Turbo Shaft           11\n",
       "Electric               5\n",
       "Name: Engine.Type, dtype: int64"
      ]
     },
     "execution_count": 20,
     "metadata": {},
     "output_type": "execute_result"
    }
   ],
   "source": [
    "aviation_processed['Engine.Type'].value_counts()"
   ]
  },
  {
   "cell_type": "markdown",
   "metadata": {},
   "source": [
    "## Engine Type vs. Injury Severity\n",
    "\n",
    "Next, we will run the same proportional analysis as Weather Condition vs. Injury Severity, but we will change our variables and replace \"Weather Condition\" with \"Engine Type\" to get the percentage of each engine in which the incident involving that engine was \"Serious\" or Fatal\"."
   ]
  },
  {
   "cell_type": "code",
   "execution_count": 21,
   "metadata": {},
   "outputs": [
    {
     "name": "stdout",
     "output_type": "stream",
     "text": [
      "Percentage of incidents with Serious or Fatal injuries for each engine type:\n",
      "Electric             0.00%\n",
      "Geared Turbofan      0.00%\n",
      "Reciprocating       15.58%\n",
      "Turbo Fan            7.70%\n",
      "Turbo Jet           19.33%\n",
      "Turbo Prop          23.23%\n",
      "Turbo Shaft          9.09%\n",
      "dtype: object\n"
     ]
    }
   ],
   "source": [
    "engine_severity_data = aviation_processed.groupby('Engine.Type')['Injury.Severity'].apply(\n",
    "                        lambda x: ((x == \"Serious\") | x.str.startswith(\"Fatal\")).sum())\n",
    "\n",
    "engine_incidents = aviation_processed['Engine.Type'].value_counts()\n",
    "\n",
    "engine_severity_percentage = (engine_severity_data / engine_incidents) * 100\n",
    "\n",
    "print(\"Percentage of incidents with Serious or Fatal injuries for each engine type:\")\n",
    "\n",
    "print(engine_severity_percentage.apply(lambda x: f\"{x: .2f}%\"))"
   ]
  },
  {
   "cell_type": "code",
   "execution_count": 22,
   "metadata": {},
   "outputs": [
    {
     "data": {
      "text/plain": [
       "Reciprocating      17718\n",
       "Turbo Prop          1317\n",
       "Turbo Fan            909\n",
       "Turbo Jet            150\n",
       "Geared Turbofan       12\n",
       "Turbo Shaft           11\n",
       "Electric               5\n",
       "Name: Engine.Type, dtype: int64"
      ]
     },
     "execution_count": 22,
     "metadata": {},
     "output_type": "execute_result"
    }
   ],
   "source": [
    "aviation_processed[\"Engine.Type\"].value_counts()"
   ]
  },
  {
   "cell_type": "markdown",
   "metadata": {},
   "source": [
    "## Engine Type vs. Injury Severity Result\n",
    "\n",
    "As we can see from the results, the safest airplane engines are the Electric, Geared Turbofan, Turbo Fan, and Turbo Shaft. From our value counts, we see that there's only 5 Electric engines, 12 Geared Turbofans, and 11 TurboShaft engines in our dataset. However, our data contains 967 Turbo Fan Engines, which means we have more data to use and makes our result more reliable. Therefore, oour first recommendation to the stakeholders would be to choose an airplane with a Turbo Fan engine, as it has ample data to show it is much safer than Reciprocating, Turbo Jet, and Turbo Prop engines, and has ample data to prove its' reliability, while Electric, Geared Turbo Fan, and TurboShaft engines have less than 1/10 the data of the Turbo Fan engine. "
   ]
  },
  {
   "cell_type": "code",
   "execution_count": 23,
   "metadata": {},
   "outputs": [
    {
     "data": {
      "text/plain": [
       "Reciprocating      17718\n",
       "Turbo Prop          1317\n",
       "Turbo Fan            909\n",
       "Turbo Jet            150\n",
       "Geared Turbofan       12\n",
       "Turbo Shaft           11\n",
       "Electric               5\n",
       "Name: Engine.Type, dtype: int64"
      ]
     },
     "execution_count": 23,
     "metadata": {},
     "output_type": "execute_result"
    }
   ],
   "source": [
    "engine_data_count = engine_incidents\n",
    "engine_data_count"
   ]
  },
  {
   "cell_type": "code",
   "execution_count": 24,
   "metadata": {},
   "outputs": [
    {
     "data": {
      "image/png": "[encoded data removed]",
      "text/plain": [
       "<Figure size 648x504 with 1 Axes>"
      ]
     },
     "metadata": {
      "needs_background": "light"
     },
     "output_type": "display_data"
    }
   ],
   "source": [
    "engines = engine_severity_data.index.tolist()\n",
    "engine_percent_severity = engine_severity_percentage\n",
    "engine_data_count = engine_data_count\n",
    "\n",
    "fig, ax = plt.subplots(figsize=(9, 7))\n",
    "\n",
    "engine_colors = ['purple', 'gold', 'cyan', 'magenta', 'Brown', 'green', 'orange', ]\n",
    "bars = ax.bar(engines, engine_percent_severity, color=engine_colors, label=engines)\n",
    "\n",
    "for bar, engine_percent in zip(bars, engine_percent_severity):\n",
    "    height = bar.get_height()\n",
    "    ax.text(bar.get_x() + bar.get_width() - 0.1, height + 1, f'{engine_percent:.2f}%', \n",
    "            ha='right', va='center')\n",
    "    \n",
    "#ax.legend()\n",
    "ax.legend(handles=bars, labels=engines, loc='upper left')\n",
    "\n",
    "ax.set_title(\"Percentage of Serious or Fatal Incidents by Engine Type\")\n",
    "ax.set_xlabel(\"Engine Type\")\n",
    "ax.set_ylabel(\"Percentage of Serious or Fatal Incidents\")\n",
    "ax.set_ylim(0, 40)\n",
    "ax.yaxis.set_major_formatter(mtick.PercentFormatter())\n",
    "plt.xticks(rotation=25)\n",
    "plt.show()"
   ]
  },
  {
   "cell_type": "code",
   "execution_count": 25,
   "metadata": {},
   "outputs": [],
   "source": [
    "#aviation_processed.to_csv('Aviation_NonAmateurUPD.csv', index=False)"
   ]
  },
  {
   "cell_type": "markdown",
   "metadata": {},
   "source": [
    "Now we export this as a CSV file to show in tableau. "
   ]
  },
  {
   "cell_type": "code",
   "execution_count": 26,
   "metadata": {},
   "outputs": [
    {
     "data": {
      "text/plain": [
       "No    24004\n",
       "Name: Amateur.Built, dtype: int64"
      ]
     },
     "execution_count": 26,
     "metadata": {},
     "output_type": "execute_result"
    }
   ],
   "source": [
    "aviation_processed['Amateur.Built'].value_counts()"
   ]
  },
  {
   "cell_type": "markdown",
   "metadata": {},
   "source": [
    "## Recommendation #3: Use a turbo fan plane with multiple engines\n",
    "\n",
    "Finally, we will introduce our last recommendation which is to use a Turbo fan plane with multiple engines. Before we proceed with our calculation, we will first remove all engines from our data set that aren't Turbo Fan, as that is the type of engine we decided on and will enhance our analysis of the proper number of engines to use. "
   ]
  },
  {
   "cell_type": "code",
   "execution_count": 27,
   "metadata": {},
   "outputs": [],
   "source": [
    "aviation_processed = aviation_processed.loc[aviation_processed['Engine.Type'] == \"Turbo Fan\", aviation_columns]"
   ]
  },
  {
   "cell_type": "markdown",
   "metadata": {},
   "source": [
    "## Number of engines vs. Injury Severity\n",
    "\n",
    "To show how we reached this conclusion, we run the same proportional analysis as above, by grouping the data by the \"Number.of.Engines\" column, finding the summation of each value in \"Number.of.Engines\" in which the \"Injury.Severity\" column is equal to \"Serious\" or starts with the word \"Fatal\", and setting it equal to a variable enginecount_incident_data. Then we set another variable called enginecount_total_incidents equal to the total number of counts of each value in \"Number.of.Engines\". Then we find the percentage of each number of engines in which the incident involving an Turbo Fan airplane with that amount of engines was a Serious or Fatal incident and print the answer. "
   ]
  },
  {
   "cell_type": "code",
   "execution_count": 28,
   "metadata": {},
   "outputs": [
    {
     "name": "stdout",
     "output_type": "stream",
     "text": [
      "Percentages of Number of Engines with Serious or Fatal incidents\n",
      "1.0     41.67%\n",
      "2.0      7.02%\n",
      "3.0      4.65%\n",
      "4.0      7.50%\n",
      "dtype: object\n"
     ]
    }
   ],
   "source": [
    "enginecount_incident_data = aviation_processed.groupby(\"Number.of.Engines\")['Injury.Severity'].apply(\n",
    "                             lambda x: ((x == \"Serious\") | (x.str.startswith(\"Fatal\"))).sum())\n",
    "\n",
    "enginecount_total_incidents = aviation_processed['Number.of.Engines'].value_counts()\n",
    "\n",
    "enginecount_incident_percentage = (enginecount_incident_data / enginecount_total_incidents) * 100\n",
    "\n",
    "print(\"Percentages of Number of Engines with Serious or Fatal incidents\")\n",
    "\n",
    "print(enginecount_incident_percentage.apply(lambda x: f\"{x: .2f}%\"))"
   ]
  },
  {
   "cell_type": "markdown",
   "metadata": {},
   "source": [
    "## Number of engines vs. Injury Severity Results\n",
    "\n",
    "As the results show, single-engine turbo fan airplanes are an outlier and incidents involving them were Serious or Fatal 41.67% of the time. Turbo Fan airplanes with two, three, and four engines were relatively close to each other in terms of risk, coming in at 7.02%, 4.65%, and 7.50% respectivley. Although three-engine aircraft show the lowest severity rate at 4.65%, it's important to note that the difference in severity rate between the three-engine aircraft (4.65%) and both the two-engine (7.02%) and four-engine (7.50%) aircraft is relativley small. Moreover, all engines exhibit significantly lower severity rates than single-engine aircraft (41.67%). Considering the statistical closeness of severity rates between two, three, and four-engine aircrafts, it is prudent to recommend multi-engine turbo fan airplanes for enhanced safety. "
   ]
  },
  {
   "cell_type": "code",
   "execution_count": 29,
   "metadata": {},
   "outputs": [
    {
     "data": {
      "text/plain": [
       "<matplotlib.legend.Legend at 0x7fa0f8537f40>"
      ]
     },
     "execution_count": 29,
     "metadata": {},
     "output_type": "execute_result"
    },
    {
     "data": {
      "image/png": "[encoded data removed]",
      "text/plain": [
       "<Figure size 576x432 with 1 Axes>"
      ]
     },
     "metadata": {
      "needs_background": "light"
     },
     "output_type": "display_data"
    }
   ],
   "source": [
    "engine_count = enginecount_incident_data.index.tolist()\n",
    "engine_count_severity_percent = enginecount_incident_percentage\n",
    "engine_numbers_count = sorted(enginecount_total_incidents)\n",
    "number_engine_colors = ['lime', 'indigo', 'pink', 'slategray']\n",
    "\n",
    "fig, ax = plt.subplots(figsize =(8, 6))\n",
    "engine_count_bars = ax.bar(range(len(engine_count)), engine_count_severity_percent,\n",
    "                           color=number_engine_colors, label=engine_count)\n",
    "\n",
    "for engine_bar, engine_number_percent in zip(engine_count_bars, engine_count_severity_percent):\n",
    "    height = engine_bar.get_height()\n",
    "    ax.text(engine_bar.get_x() + engine_bar.get_width() - 0.3, height + 1,\n",
    "            f'{engine_number_percent: .2f}%', ha='right', va='center')\n",
    "    ax.legend()\n",
    "\n",
    "ax.set_title(\"Percentage of Serious or Fatal Incidents by Number of Engines\")\n",
    "ax.set_xlabel(\"Number of Engines\")\n",
    "ax.set_ylabel(\"Percentage of Serious or Fatal Incidents\")\n",
    "ax.set_ylim(0, 50)\n",
    "ax.yaxis.set_major_formatter(mtick.PercentFormatter())\n",
    "plt.xticks(range(len(engine_count)), [f'{engine}-Engine' for engine in engine_count])\n",
    "custom_legend_labels = ['1.0-engine', '2.0-engine', '3.0-engine', '4.0-engine']\n",
    "ax.legend(engine_count_bars, custom_legend_labels)\n",
    "\n",
    "    "
   ]
  },
  {
   "cell_type": "markdown",
   "metadata": {},
   "source": [
    "Now we export this data as a CSV file to show in tableau. "
   ]
  },
  {
   "cell_type": "code",
   "execution_count": 30,
   "metadata": {},
   "outputs": [],
   "source": [
    "#aviation_processed.to_csv('Aviation_only_turbofan.csv', index=False)"
   ]
  }
 ],
 "metadata": {
  "kernelspec": {
   "display_name": "Python 3",
   "language": "python",
   "name": "python3"
  },
  "language_info": {
   "codemirror_mode": {
    "name": "ipython",
    "version": 3
   },
   "file_extension": ".py",
   "mimetype": "text/x-python",
   "name": "python",
   "nbconvert_exporter": "python",
   "pygments_lexer": "ipython3",
   "version": "3.8.5"
  }
 },
 "nbformat": 4,
 "nbformat_minor": 5
}
